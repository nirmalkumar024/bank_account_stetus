{
 "cells": [
  {
   "cell_type": "code",
   "execution_count": 2,
   "id": "62651eb4-fbc4-417f-bd9b-0441e7379ef8",
   "metadata": {},
   "outputs": [],
   "source": [
    "class bank_acount:\n",
    "    \n",
    "    def __init__(self,balance):      #I use constructor, basically it is use store the dif-dif type of data type store.\n",
    "        self.__balance=balance       #I use encapsulation function which is use to private the code.\n",
    "        \n",
    "    def deposit (self,amount):\n",
    "        self.__balance = self.__balance + amount\n",
    "                                    # i just take three varible and exuct it as these following,according to bank works\n",
    "        \n",
    "    def withdrow(self,amount):\n",
    "        if self.__balance >= amount:\n",
    "            self.__blance=self.__balance - amount\n",
    "            return True\n",
    "        else :\n",
    "            return False\n",
    "        \n",
    "    def get_balance(self):\n",
    "         return self.__balance"
   ]
  },
  {
   "cell_type": "code",
   "execution_count": 3,
   "id": "b41221f7-6770-4a3f-9114-5e0d092f0c21",
   "metadata": {},
   "outputs": [],
   "source": [
    "obj_bank_acount=bank_acount(1000)"
   ]
  },
  {
   "cell_type": "code",
   "execution_count": 6,
   "id": "7df3689d-030c-4cf8-b68d-4ebc0bf9c643",
   "metadata": {},
   "outputs": [],
   "source": [
    "obj_bank_acount.deposit(80000)"
   ]
  },
  {
   "cell_type": "code",
   "execution_count": 7,
   "id": "5f1115eb-fc3a-4599-8824-8fa3fbaf8f66",
   "metadata": {},
   "outputs": [
    {
     "data": {
      "text/plain": [
       "True"
      ]
     },
     "execution_count": 7,
     "metadata": {},
     "output_type": "execute_result"
    }
   ],
   "source": [
    "obj_bank_acount.withdrow(500)"
   ]
  },
  {
   "cell_type": "code",
   "execution_count": null,
   "id": "70a6a3f0-a5ea-40ff-af6e-ea63e9e5d22a",
   "metadata": {},
   "outputs": [],
   "source": []
  }
 ],
 "metadata": {
  "kernelspec": {
   "display_name": "Python 3 (ipykernel)",
   "language": "python",
   "name": "python3"
  },
  "language_info": {
   "codemirror_mode": {
    "name": "ipython",
    "version": 3
   },
   "file_extension": ".py",
   "mimetype": "text/x-python",
   "name": "python",
   "nbconvert_exporter": "python",
   "pygments_lexer": "ipython3",
   "version": "3.10.8"
  }
 },
 "nbformat": 4,
 "nbformat_minor": 5
}
